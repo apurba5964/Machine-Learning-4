{
  "nbformat": 4,
  "nbformat_minor": 0,
  "metadata": {
    "colab": {
      "name": "bonus1.ipynb",
      "version": "0.3.2",
      "provenance": []
    },
    "kernelspec": {
      "name": "python3",
      "display_name": "Python 3"
    },
    "accelerator": "GPU"
  },
  "cells": [
    {
      "metadata": {
        "id": "bVdahrzCq2rg",
        "colab_type": "code",
        "colab": {
          "base_uri": "https://localhost:8080/",
          "height": 1193
        },
        "outputId": "6a845a3c-e5c5-4754-eb96-0c9a175b2aca"
      },
      "cell_type": "code",
      "source": [
        "!pip install gym\n",
        "!apt install cmake libopenmpi-dev zlib1g-dev \n",
        "#installing dependencies otherwise pip installation will throw error\n",
        "!pip install stable-baselines"
      ],
      "execution_count": 1,
      "outputs": [
        {
          "output_type": "stream",
          "text": [
            "Requirement already satisfied: gym in /usr/local/lib/python3.6/dist-packages (0.10.9)\n",
            "Requirement already satisfied: requests>=2.0 in /usr/local/lib/python3.6/dist-packages (from gym) (2.18.4)\n",
            "Requirement already satisfied: scipy in /usr/local/lib/python3.6/dist-packages (from gym) (1.1.0)\n",
            "Requirement already satisfied: pyglet>=1.2.0 in /usr/local/lib/python3.6/dist-packages (from gym) (1.3.2)\n",
            "Requirement already satisfied: six in /usr/local/lib/python3.6/dist-packages (from gym) (1.11.0)\n",
            "Requirement already satisfied: numpy>=1.10.4 in /usr/local/lib/python3.6/dist-packages (from gym) (1.14.6)\n",
            "Requirement already satisfied: idna<2.7,>=2.5 in /usr/local/lib/python3.6/dist-packages (from requests>=2.0->gym) (2.6)\n",
            "Requirement already satisfied: certifi>=2017.4.17 in /usr/local/lib/python3.6/dist-packages (from requests>=2.0->gym) (2018.11.29)\n",
            "Requirement already satisfied: chardet<3.1.0,>=3.0.2 in /usr/local/lib/python3.6/dist-packages (from requests>=2.0->gym) (3.0.4)\n",
            "Requirement already satisfied: urllib3<1.23,>=1.21.1 in /usr/local/lib/python3.6/dist-packages (from requests>=2.0->gym) (1.22)\n",
            "Requirement already satisfied: future in /usr/local/lib/python3.6/dist-packages (from pyglet>=1.2.0->gym) (0.16.0)\n",
            "Reading package lists... Done\n",
            "Building dependency tree       \n",
            "Reading state information... Done\n",
            "cmake is already the newest version (3.10.2-1ubuntu2).\n",
            "zlib1g-dev is already the newest version (1:1.2.11.dfsg-0ubuntu2).\n",
            "libopenmpi-dev is already the newest version (2.1.1-8).\n",
            "0 upgraded, 0 newly installed, 0 to remove and 8 not upgraded.\n",
            "Requirement already satisfied: stable-baselines in /usr/local/lib/python3.6/dist-packages (2.3.0)\n",
            "Requirement already satisfied: click in /usr/local/lib/python3.6/dist-packages (from stable-baselines) (7.0)\n",
            "Requirement already satisfied: tqdm in /usr/local/lib/python3.6/dist-packages (from stable-baselines) (4.28.1)\n",
            "Requirement already satisfied: zmq in /usr/local/lib/python3.6/dist-packages (from stable-baselines) (0.0.0)\n",
            "Requirement already satisfied: dill in /usr/local/lib/python3.6/dist-packages (from stable-baselines) (0.2.8.2)\n",
            "Requirement already satisfied: scipy in /usr/local/lib/python3.6/dist-packages (from stable-baselines) (1.1.0)\n",
            "Requirement already satisfied: cloudpickle>=0.5.5 in /usr/local/lib/python3.6/dist-packages (from stable-baselines) (0.6.1)\n",
            "Requirement already satisfied: tensorflow>=1.5.0 in /usr/local/lib/python3.6/dist-packages (from stable-baselines) (1.12.0)\n",
            "Requirement already satisfied: opencv-python in /usr/local/lib/python3.6/dist-packages (from stable-baselines) (3.4.4.19)\n",
            "Requirement already satisfied: matplotlib in /usr/local/lib/python3.6/dist-packages (from stable-baselines) (2.1.2)\n",
            "Requirement already satisfied: glob2 in /usr/local/lib/python3.6/dist-packages (from stable-baselines) (0.6)\n",
            "Requirement already satisfied: mpi4py in /usr/local/lib/python3.6/dist-packages (from stable-baselines) (3.0.0)\n",
            "Requirement already satisfied: numpy in /usr/local/lib/python3.6/dist-packages (from stable-baselines) (1.14.6)\n",
            "Requirement already satisfied: joblib in /usr/local/lib/python3.6/dist-packages (from stable-baselines) (0.13.0)\n",
            "Requirement already satisfied: pandas in /usr/local/lib/python3.6/dist-packages (from stable-baselines) (0.22.0)\n",
            "Requirement already satisfied: gym[atari,classic_control]>=0.10.9 in /usr/local/lib/python3.6/dist-packages (from stable-baselines) (0.10.9)\n",
            "Requirement already satisfied: progressbar2 in /usr/local/lib/python3.6/dist-packages (from stable-baselines) (3.38.0)\n",
            "Requirement already satisfied: seaborn in /usr/local/lib/python3.6/dist-packages (from stable-baselines) (0.7.1)\n",
            "Requirement already satisfied: pyzmq in /usr/local/lib/python3.6/dist-packages (from zmq->stable-baselines) (17.0.0)\n",
            "Requirement already satisfied: protobuf>=3.6.1 in /usr/local/lib/python3.6/dist-packages (from tensorflow>=1.5.0->stable-baselines) (3.6.1)\n",
            "Requirement already satisfied: absl-py>=0.1.6 in /usr/local/lib/python3.6/dist-packages (from tensorflow>=1.5.0->stable-baselines) (0.6.1)\n",
            "Requirement already satisfied: astor>=0.6.0 in /usr/local/lib/python3.6/dist-packages (from tensorflow>=1.5.0->stable-baselines) (0.7.1)\n",
            "Requirement already satisfied: grpcio>=1.8.6 in /usr/local/lib/python3.6/dist-packages (from tensorflow>=1.5.0->stable-baselines) (1.15.0)\n",
            "Requirement already satisfied: gast>=0.2.0 in /usr/local/lib/python3.6/dist-packages (from tensorflow>=1.5.0->stable-baselines) (0.2.0)\n",
            "Requirement already satisfied: tensorboard<1.13.0,>=1.12.0 in /usr/local/lib/python3.6/dist-packages (from tensorflow>=1.5.0->stable-baselines) (1.12.0)\n",
            "Requirement already satisfied: termcolor>=1.1.0 in /usr/local/lib/python3.6/dist-packages (from tensorflow>=1.5.0->stable-baselines) (1.1.0)\n",
            "Requirement already satisfied: keras-applications>=1.0.6 in /usr/local/lib/python3.6/dist-packages (from tensorflow>=1.5.0->stable-baselines) (1.0.6)\n",
            "Requirement already satisfied: six>=1.10.0 in /usr/local/lib/python3.6/dist-packages (from tensorflow>=1.5.0->stable-baselines) (1.11.0)\n",
            "Requirement already satisfied: wheel>=0.26 in /usr/local/lib/python3.6/dist-packages (from tensorflow>=1.5.0->stable-baselines) (0.32.3)\n",
            "Requirement already satisfied: keras-preprocessing>=1.0.5 in /usr/local/lib/python3.6/dist-packages (from tensorflow>=1.5.0->stable-baselines) (1.0.5)\n",
            "Requirement already satisfied: cycler>=0.10 in /usr/local/lib/python3.6/dist-packages (from matplotlib->stable-baselines) (0.10.0)\n",
            "Requirement already satisfied: python-dateutil>=2.1 in /usr/local/lib/python3.6/dist-packages (from matplotlib->stable-baselines) (2.5.3)\n",
            "Requirement already satisfied: pytz in /usr/local/lib/python3.6/dist-packages (from matplotlib->stable-baselines) (2018.7)\n",
            "Requirement already satisfied: pyparsing!=2.0.4,!=2.1.2,!=2.1.6,>=2.0.1 in /usr/local/lib/python3.6/dist-packages (from matplotlib->stable-baselines) (2.3.0)\n",
            "Requirement already satisfied: pyglet>=1.2.0 in /usr/local/lib/python3.6/dist-packages (from gym[atari,classic_control]>=0.10.9->stable-baselines) (1.3.2)\n",
            "Requirement already satisfied: requests>=2.0 in /usr/local/lib/python3.6/dist-packages (from gym[atari,classic_control]>=0.10.9->stable-baselines) (2.18.4)\n",
            "Requirement already satisfied: atari-py>=0.1.4; extra == \"atari\" in /usr/local/lib/python3.6/dist-packages (from gym[atari,classic_control]>=0.10.9->stable-baselines) (0.1.7)\n",
            "Requirement already satisfied: Pillow; extra == \"atari\" in /usr/local/lib/python3.6/dist-packages (from gym[atari,classic_control]>=0.10.9->stable-baselines) (4.0.0)\n",
            "Requirement already satisfied: PyOpenGL; extra == \"atari\" in /usr/local/lib/python3.6/dist-packages (from gym[atari,classic_control]>=0.10.9->stable-baselines) (3.1.0)\n",
            "Requirement already satisfied: python-utils>=2.3.0 in /usr/local/lib/python3.6/dist-packages (from progressbar2->stable-baselines) (2.3.0)\n",
            "Requirement already satisfied: setuptools in /usr/local/lib/python3.6/dist-packages (from protobuf>=3.6.1->tensorflow>=1.5.0->stable-baselines) (40.6.2)\n",
            "Requirement already satisfied: markdown>=2.6.8 in /usr/local/lib/python3.6/dist-packages (from tensorboard<1.13.0,>=1.12.0->tensorflow>=1.5.0->stable-baselines) (3.0.1)\n",
            "Requirement already satisfied: werkzeug>=0.11.10 in /usr/local/lib/python3.6/dist-packages (from tensorboard<1.13.0,>=1.12.0->tensorflow>=1.5.0->stable-baselines) (0.14.1)\n",
            "Requirement already satisfied: h5py in /usr/local/lib/python3.6/dist-packages (from keras-applications>=1.0.6->tensorflow>=1.5.0->stable-baselines) (2.8.0)\n",
            "Requirement already satisfied: future in /usr/local/lib/python3.6/dist-packages (from pyglet>=1.2.0->gym[atari,classic_control]>=0.10.9->stable-baselines) (0.16.0)\n",
            "Requirement already satisfied: certifi>=2017.4.17 in /usr/local/lib/python3.6/dist-packages (from requests>=2.0->gym[atari,classic_control]>=0.10.9->stable-baselines) (2018.11.29)\n",
            "Requirement already satisfied: chardet<3.1.0,>=3.0.2 in /usr/local/lib/python3.6/dist-packages (from requests>=2.0->gym[atari,classic_control]>=0.10.9->stable-baselines) (3.0.4)\n",
            "Requirement already satisfied: idna<2.7,>=2.5 in /usr/local/lib/python3.6/dist-packages (from requests>=2.0->gym[atari,classic_control]>=0.10.9->stable-baselines) (2.6)\n",
            "Requirement already satisfied: urllib3<1.23,>=1.21.1 in /usr/local/lib/python3.6/dist-packages (from requests>=2.0->gym[atari,classic_control]>=0.10.9->stable-baselines) (1.22)\n",
            "Requirement already satisfied: olefile in /usr/local/lib/python3.6/dist-packages (from Pillow; extra == \"atari\"->gym[atari,classic_control]>=0.10.9->stable-baselines) (0.46)\n"
          ],
          "name": "stdout"
        }
      ]
    },
    {
      "metadata": {
        "id": "relCLV9Uq9yG",
        "colab_type": "code",
        "colab": {}
      },
      "cell_type": "code",
      "source": [
        "from stable_baselines.common.cmd_util import make_atari_env\n",
        "from stable_baselines.common.policies import CnnPolicy\n",
        "from stable_baselines.common.vec_env import VecFrameStack\n",
        "from stable_baselines import ACER\n",
        "from stable_baselines import DQN\n",
        "from stable_baselines.deepq.policies import MlpPolicy"
      ],
      "execution_count": 0,
      "outputs": []
    },
    {
      "metadata": {
        "id": "DovHBWLzrVZf",
        "colab_type": "code",
        "colab": {
          "base_uri": "https://localhost:8080/",
          "height": 173
        },
        "outputId": "ca45f4c7-ae5c-49ac-fad6-99d603cbbbd1"
      },
      "cell_type": "code",
      "source": [
        "# make_atari_env is an environment generator that will make and wrap atari environments.\n",
        "env = make_atari_env('PongNoFrameskip-v4', num_env=4, seed=0)\n",
        "# Stack 4 frames\n",
        "env = VecFrameStack(env, n_stack=4)"
      ],
      "execution_count": 7,
      "outputs": [
        {
          "output_type": "stream",
          "text": [
            "/usr/local/lib/python3.6/dist-packages/gym/envs/registration.py:14: PkgResourcesDeprecationWarning: Parameters to load are deprecated.  Call .resolve and .require separately.\n",
            "  result = entry_point.load(False)\n",
            "/usr/local/lib/python3.6/dist-packages/gym/envs/registration.py:14: PkgResourcesDeprecationWarning: Parameters to load are deprecated.  Call .resolve and .require separately.\n",
            "  result = entry_point.load(False)\n",
            "/usr/local/lib/python3.6/dist-packages/gym/envs/registration.py:14: PkgResourcesDeprecationWarning: Parameters to load are deprecated.  Call .resolve and .require separately.\n",
            "  result = entry_point.load(False)\n",
            "/usr/local/lib/python3.6/dist-packages/gym/envs/registration.py:14: PkgResourcesDeprecationWarning: Parameters to load are deprecated.  Call .resolve and .require separately.\n",
            "  result = entry_point.load(False)\n"
          ],
          "name": "stderr"
        }
      ]
    },
    {
      "metadata": {
        "id": "fZB5Y9i8rxVD",
        "colab_type": "code",
        "colab": {
          "base_uri": "https://localhost:8080/",
          "height": 1462
        },
        "outputId": "62b90cf2-11a2-48a4-8d52-280fefa76167"
      },
      "cell_type": "code",
      "source": [
        "#ACER model is used with CnnPolicy to train the model\n",
        "model = ACER(CnnPolicy, env, verbose=1)\n",
        "\n",
        "#Model is trained over 25000 episodes\n",
        "model.learn(total_timesteps=25000)"
      ],
      "execution_count": 9,
      "outputs": [
        {
          "output_type": "stream",
          "text": [
            "----------------------------------\n",
            "| avg_norm_adj        | 0        |\n",
            "| avg_norm_g          | 0.0201   |\n",
            "| avg_norm_grads_f    | 0.0201   |\n",
            "| avg_norm_k          | 2.45     |\n",
            "| avg_norm_k_dot_g    | 0.0201   |\n",
            "| entropy             | 151      |\n",
            "| explained_variance  | -0.0441  |\n",
            "| fps                 | 0        |\n",
            "| loss                | -1.51    |\n",
            "| loss_bc             | -0       |\n",
            "| loss_f              | -0.00556 |\n",
            "| loss_policy         | -0.00556 |\n",
            "| loss_q              | 1.09e-05 |\n",
            "| mean_episode_length | 0        |\n",
            "| mean_episode_reward | 0        |\n",
            "| norm_grads          | 0.00656  |\n",
            "| norm_grads_policy   | 0.00299  |\n",
            "| norm_grads_q        | 0.00584  |\n",
            "| total_timesteps     | 0        |\n",
            "----------------------------------\n",
            "----------------------------------\n",
            "| avg_norm_adj        | 0.306    |\n",
            "| avg_norm_g          | 2.42     |\n",
            "| avg_norm_grads_f    | 2.23     |\n",
            "| avg_norm_k          | 2.45     |\n",
            "| avg_norm_k_dot_g    | 2.44     |\n",
            "| entropy             | 150      |\n",
            "| explained_variance  | 0.00527  |\n",
            "| fps                 | 253      |\n",
            "| loss                | -2.07    |\n",
            "| loss_bc             | -0       |\n",
            "| loss_f              | -0.639   |\n",
            "| loss_policy         | -0.639   |\n",
            "| loss_q              | 0.155    |\n",
            "| mean_episode_length | 616      |\n",
            "| mean_episode_reward | -13.8    |\n",
            "| norm_grads          | 1.52     |\n",
            "| norm_grads_policy   | 0.907    |\n",
            "| norm_grads_q        | 1.21     |\n",
            "| total_timesteps     | 8000     |\n",
            "----------------------------------\n",
            "----------------------------------\n",
            "| avg_norm_adj        | 0.195    |\n",
            "| avg_norm_g          | 2.3      |\n",
            "| avg_norm_grads_f    | 2.16     |\n",
            "| avg_norm_k          | 2.67     |\n",
            "| avg_norm_k_dot_g    | 2.42     |\n",
            "| entropy             | 144      |\n",
            "| explained_variance  | 0.00344  |\n",
            "| fps                 | 245      |\n",
            "| loss                | -1.73    |\n",
            "| loss_bc             | -0       |\n",
            "| loss_f              | -0.343   |\n",
            "| loss_policy         | -0.343   |\n",
            "| loss_q              | 0.106    |\n",
            "| mean_episode_length | 745      |\n",
            "| mean_episode_reward | -17.1    |\n",
            "| norm_grads          | 2.09     |\n",
            "| norm_grads_policy   | 1.4      |\n",
            "| norm_grads_q        | 1.56     |\n",
            "| total_timesteps     | 16000    |\n",
            "----------------------------------\n",
            "----------------------------------\n",
            "| avg_norm_adj        | 0.0271   |\n",
            "| avg_norm_g          | 1.01     |\n",
            "| avg_norm_grads_f    | 0.988    |\n",
            "| avg_norm_k          | 2.51     |\n",
            "| avg_norm_k_dot_g    | 1.01     |\n",
            "| entropy             | 135      |\n",
            "| explained_variance  | -0.0184  |\n",
            "| fps                 | 244      |\n",
            "| loss                | -1.21    |\n",
            "| loss_bc             | -0       |\n",
            "| loss_f              | 0.123    |\n",
            "| loss_policy         | 0.123    |\n",
            "| loss_q              | 0.0347   |\n",
            "| mean_episode_length | 804      |\n",
            "| mean_episode_reward | -18.2    |\n",
            "| norm_grads          | 0.522    |\n",
            "| norm_grads_policy   | 0.267    |\n",
            "| norm_grads_q        | 0.401    |\n",
            "| total_timesteps     | 24000    |\n",
            "----------------------------------\n"
          ],
          "name": "stdout"
        },
        {
          "output_type": "execute_result",
          "data": {
            "text/plain": [
              "<stable_baselines.acer.acer_simple.ACER at 0x7f95e2e163c8>"
            ]
          },
          "metadata": {
            "tags": []
          },
          "execution_count": 9
        }
      ]
    },
    {
      "metadata": {
        "id": "-PpnyI09r72L",
        "colab_type": "code",
        "colab": {}
      },
      "cell_type": "code",
      "source": [
        ""
      ],
      "execution_count": 0,
      "outputs": []
    }
  ]
}